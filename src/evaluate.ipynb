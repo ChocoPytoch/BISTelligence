{
  "nbformat": 4,
  "nbformat_minor": 0,
  "metadata": {
    "colab": {
      "provenance": []
    },
    "kernelspec": {
      "name": "python3",
      "display_name": "Python 3"
    },
    "language_info": {
      "name": "python"
    }
  },
  "cells": [
    {
      "cell_type": "code",
      "source": [
        "#for evaluate"
      ],
      "metadata": {
        "id": "4ftSpzTDvO0P"
      },
      "execution_count": null,
      "outputs": []
    },
    {
      "cell_type": "code",
      "source": [
        "'''\n",
        "실험은 여기서 진행하면 될거야\n",
        "원래 run 함수 만들어서 한방에 돌아가도록 하려했는데 사용자한테 threshold 받아오려면 오히려 비효율적일것 같더라고\n",
        "최종 목적은 웹이나 시각화 툴 혹은 python 시각화 라이브러리 이용하는 거니까 우선은 이 파일로 실험 진행하고 나중에 프로그램적으로 돌려야겠다 싶으면\n",
        "그 때 만들어도 될 것 같다.\n",
        "\n",
        "필요할 것 같은 함수들은 만들어 뒀는데 추가로 필수적인 함수 있으면 구현해서 사용하면 되고 기호에 맞게 수정해도 돼\n",
        "그리고 함수 추가하거나 수정한 후에 PR 할때는 꼭 말해주고\n",
        "'''"
      ],
      "metadata": {
        "id": "_T80QsNfKa4b"
      },
      "execution_count": null,
      "outputs": []
    },
    {
      "cell_type": "code",
      "execution_count": 1,
      "metadata": {
        "id": "eLX-t3Eyttne",
        "colab": {
          "base_uri": "https://localhost:8080/"
        },
        "outputId": "f15fd78a-6166-465a-b8f9-3b156cf1e2b1"
      },
      "outputs": [
        {
          "output_type": "stream",
          "name": "stdout",
          "text": [
            "Mounted at /content/drive\n"
          ]
        }
      ],
      "source": [
        "from google.colab import drive\n",
        "drive.mount('/content/drive')"
      ]
    },
    {
      "cell_type": "code",
      "source": [
        "# cd [your src path]\n",
        "%cd /content/drive/MyDrive/bistelligence/BISTelligence/src"
      ],
      "metadata": {
        "colab": {
          "base_uri": "https://localhost:8080/"
        },
        "id": "5Ep9-91Pw-k4",
        "outputId": "4d6e7348-4160-427d-b38c-a059a2a2456c"
      },
      "execution_count": 60,
      "outputs": [
        {
          "output_type": "stream",
          "name": "stdout",
          "text": [
            "/content/drive/MyDrive/bistelligence/BISTelligence/src\n"
          ]
        }
      ]
    },
    {
      "cell_type": "code",
      "source": [
        "%pip install pyod tensorflow "
      ],
      "metadata": {
        "id": "_-rQhmXGL-F9"
      },
      "execution_count": null,
      "outputs": []
    },
    {
      "cell_type": "code",
      "source": [
        "import data.preprocessing as dp\n",
        "import model.models as mm"
      ],
      "metadata": {
        "id": "TY_Zm0Zct3wh"
      },
      "execution_count": 61,
      "outputs": []
    },
    {
      "cell_type": "code",
      "source": [
        "path = '/content/drive/MyDrive/bistelligence/BIS_data/BISTelligen_Project_Data.csv'\n",
        "threshold = 0"
      ],
      "metadata": {
        "id": "Vc4V2I-eJ0wl"
      },
      "execution_count": 62,
      "outputs": []
    },
    {
      "cell_type": "code",
      "source": [
        "def GetLOF(scaled=True):\n",
        "  train_data, test_data = dp.GetPreprocessedData(path, scaled)\n",
        "\n",
        "  model = mm.LocalOutlierFactor(train_data, test_data)\n",
        "  return model"
      ],
      "metadata": {
        "id": "ZtAuGEqSvX0k"
      },
      "execution_count": 63,
      "outputs": []
    },
    {
      "cell_type": "code",
      "source": [
        "def GetMCD(scaled=True):\n",
        "  train_data, test_data = dp.GetPreprocessedData(path, scaled)\n",
        "\n",
        "  model = mm.MinimumCovarianceDeterminant(train_data, test_data)\n",
        "  return model"
      ],
      "metadata": {
        "id": "tpmaa5V6x8BW"
      },
      "execution_count": 64,
      "outputs": []
    },
    {
      "cell_type": "code",
      "source": [
        "def GetOCSVM(scaled=True):\n",
        "  train_data, test_data = dp.GetPreprocessedData(path, scaled)\n",
        "\n",
        "  model = mm.OneClassSVM(train_data, test_data)\n",
        "  return model"
      ],
      "metadata": {
        "id": "iUUQdXV7IxE9"
      },
      "execution_count": 65,
      "outputs": []
    },
    {
      "cell_type": "code",
      "source": [
        "def GetGMM(scaled=True):\n",
        "  train_data, test_data = dp.GetPreprocessedData(path, scaled)\n",
        "\n",
        "  model = mm.GausianMixtureModel(train_data, test_data)\n",
        "  return model"
      ],
      "metadata": {
        "id": "ZYpyPbc2IxZu"
      },
      "execution_count": 66,
      "outputs": []
    },
    {
      "cell_type": "code",
      "source": [
        "def GetIForest(scaled=True):\n",
        "  train_data, test_data = dp.GetPreprocessedData(path, scaled)\n",
        "\n",
        "  model = mm.IsolationForest(train_data, test_data)\n",
        "  return model"
      ],
      "metadata": {
        "id": "ipiEwbuIIxdR"
      },
      "execution_count": 67,
      "outputs": []
    },
    {
      "cell_type": "code",
      "source": [
        "def GetAE(scaled=True):\n",
        "  train_data, test_data = dp.GetPreprocessedData(path, scaled)\n",
        "\n",
        "  model = mm.AutoEncoder(train_data, test_data)\n",
        "  return model"
      ],
      "metadata": {
        "id": "GF7H99T9Fhmu"
      },
      "execution_count": 68,
      "outputs": []
    },
    {
      "cell_type": "code",
      "source": [
        "def GetAnomalyScore(model=None):\n",
        "  '''\n",
        "  모델의 anomaly score return\n",
        "\n",
        "  나중에 웹이나 시각화 툴로 health index 나타낼 때, (x,y)값 입력해야하는 경우 필요할 것 같아서 만듦.\n",
        "  혹시 필요 없더라도 문제 없으니까 구현\n",
        "  '''\n",
        "  pass"
      ],
      "metadata": {
        "id": "bI4DawFqHUTw"
      },
      "execution_count": 69,
      "outputs": []
    },
    {
      "cell_type": "code",
      "source": [
        "def ShowHealthIndex():\n",
        "  '''\n",
        "  GetAnomalyScore로 이상치 점수 받아온 후, health index plot을 도출\n",
        "  png로 저장 혹은 단순 plot 도출\n",
        "  '''\n",
        "  pass"
      ],
      "metadata": {
        "id": "SaCgNwbYFjLo"
      },
      "execution_count": 55,
      "outputs": []
    },
    {
      "cell_type": "code",
      "source": [
        "def DoXAI(model=None):\n",
        "  '''\n",
        "  더 잘맞는 함수 이름으로 바꿔도 괜찮고, 파라미터도 상황에 맞게 변경 가능\n",
        "  (threshold를 입력받아야 XAI가 진행될 수도 있다고 생각되는데 그럴 경우, SetThreshold() 함수를 만들어서 threshold에 값 저장시킬 필요 있음.)\n",
        "  XAI 폴더의 xai.py(가명)의 함수들을 실행시키는 함수\n",
        "  \n",
        "  xai.py(가명)의 함수들은 shap에서 지원하는 여러가지 plot을 그리고, png 파일로 XAI 폴더 내에 저장하는 동작으로 가정\n",
        "  따라서 DoXAI()를 실행하면 XAI 폴더 내에 여러 plot png파일이 생성되는것을 생각하고 만듦\n",
        "  '''  \n",
        "  pass"
      ],
      "metadata": {
        "id": "cBOzkQmpAbov"
      },
      "execution_count": 40,
      "outputs": []
    },
    {
      "cell_type": "code",
      "source": [],
      "metadata": {
        "id": "QvOGdcdIBOTh"
      },
      "execution_count": null,
      "outputs": []
    }
  ]
}