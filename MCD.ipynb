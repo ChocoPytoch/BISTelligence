{
  "nbformat": 4,
  "nbformat_minor": 0,
  "metadata": {
    "colab": {
      "provenance": []
    },
    "kernelspec": {
      "name": "python3",
      "display_name": "Python 3"
    },
    "language_info": {
      "name": "python"
    }
  },
  "cells": [
    {
      "cell_type": "code",
      "execution_count": null,
      "metadata": {
        "id": "UcnKpXYn7L8L"
      },
      "outputs": [],
      "source": [
        "def MCD_Function(trainset, testset) :\n",
        "    model_mcd = MCD(support_fraction=0.8,contamination=0.01,random_state=42)\n",
        "    model_mcd.fit(trainset)\n",
        "    mcd_anomaly_score = model_mcd.decision_function(testset)\n",
        "    sns.scatterplot(testset.index,mcd_anomaly_score)"
      ]
    }
  ]
}